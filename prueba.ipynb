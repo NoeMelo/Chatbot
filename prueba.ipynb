{
 "cells": [
  {
   "cell_type": "code",
   "execution_count": 1,
   "metadata": {},
   "outputs": [],
   "source": [
    "from chatterbot import ChatBot"
   ]
  },
  {
   "cell_type": "code",
   "execution_count": 2,
   "metadata": {},
   "outputs": [
    {
     "name": "stdout",
     "output_type": "stream",
     "text": [
      "[nltk_data] Downloading package averaged_perceptron_tagger to\n",
      "[nltk_data]     C:\\Users\\noy-4\\AppData\\Roaming\\nltk_data...\n",
      "[nltk_data]   Package averaged_perceptron_tagger is already up-to-\n",
      "[nltk_data]       date!\n",
      "[nltk_data] Downloading package punkt to\n",
      "[nltk_data]     C:\\Users\\noy-4\\AppData\\Roaming\\nltk_data...\n",
      "[nltk_data]   Package punkt is already up-to-date!\n",
      "[nltk_data] Downloading package stopwords to\n",
      "[nltk_data]     C:\\Users\\noy-4\\AppData\\Roaming\\nltk_data...\n",
      "[nltk_data]   Package stopwords is already up-to-date!\n"
     ]
    }
   ],
   "source": [
    "chatbot = ChatBot(\n",
    "    \"robotitus\",\n",
    "\n",
    "    storage_adapter='chatterbot.storage.MongoDatabaseAdapter',\n",
    "    database_uri='mongodb://localhost:27017/chatbot',\n",
    "    #database='chatbot',\n",
    "    \n",
    "    input_adapter=\"chatterbot.input.TerminalAdapter\",\n",
    "    \n",
    "    output_adapter=\"chatterbot.output.OutputAdapter\",\n",
    "    output_format=\"text\",\n",
    "\n",
    "    logic_adapters=[\n",
    "        {\n",
    "            \"import_path\": \"chatterbot.logic.BestMatch\",\n",
    "            \"statement_comparison_function\": \"chatterbot.comparisons.levenshtein_distance\",\n",
    "            \"response_selection_method\": \"chatterbot.response_selection.get_most_frequent_response\"\n",
    "        },\n",
    "        {\n",
    "            'import_path': 'chatterbot.logic.BestMatch',\n",
    "            'default_response': 'Lo siento, pero no te entiendo',\n",
    "            'maximum_similarity_threshold': 0.10\n",
    "        },\n",
    "        {\n",
    "            'import_path': 'chatterbot.logic.SpecificResponseAdapter',\n",
    "            'input_text': 'Quiero reservar un crucero',\n",
    "            'output_text': 'Puedes reservarlo ahora en: https://www.logitravel.com/cruceros/'\n",
    "        },\n",
    "    ],\n",
    "    \n",
    "    preprocessors=[\n",
    "        'chatterbot.preprocessors.clean_whitespace'\n",
    "    ],\n",
    "    \n",
    "    read_only=True,\n",
    ")\n",
    "#DEFAULT_SESSION_ID = chatbot.default_session.id"
   ]
  },
  {
   "cell_type": "code",
   "execution_count": 3,
   "metadata": {},
   "outputs": [
    {
     "name": "stdout",
     "output_type": "stream",
     "text": [
      "Training conversations.yml: [####################] 100%\n",
      "Training greetings.yml: [####################] 100%\n",
      "Training trivia.yml: [####################] 100%\n",
      "Training conversations.yml: [####################] 100%\n"
     ]
    }
   ],
   "source": [
    "from chatterbot.trainers import ChatterBotCorpusTrainer\n",
    "\n",
    "trainer = ChatterBotCorpusTrainer(chatbot)\n",
    "\n",
    "trainer.train(\n",
    "    'chatterbot.corpus.spanish',\n",
    "   # \"./spanish/conversations.yml\"\n",
    ")"
   ]
  },
  {
   "cell_type": "code",
   "execution_count": null,
   "metadata": {},
   "outputs": [],
   "source": [
    "response = chatbot.get_response('robotitus')\n",
    "print(response)"
   ]
  },
  {
   "cell_type": "code",
   "execution_count": null,
   "metadata": {},
   "outputs": [],
   "source": [
    "while True:\n",
    "    try:\n",
    "        bot_input = chatbot.get_response(input())\n",
    "        print(bot_input)\n",
    "\n",
    "    except(KeyboardInterrupt, EOFError, SystemExit):\n",
    "        break"
   ]
  },
  {
   "cell_type": "code",
   "execution_count": null,
   "metadata": {},
   "outputs": [],
   "source": [
    "\n"
   ]
  }
 ],
 "metadata": {
  "kernelspec": {
   "display_name": "Python 3",
   "language": "python",
   "name": "python3"
  },
  "language_info": {
   "codemirror_mode": {
    "name": "ipython",
    "version": 3
   },
   "file_extension": ".py",
   "mimetype": "text/x-python",
   "name": "python",
   "nbconvert_exporter": "python",
   "pygments_lexer": "ipython3",
   "version": "3.7.0"
  }
 },
 "nbformat": 4,
 "nbformat_minor": 2
}
