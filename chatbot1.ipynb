{
 "cells": [
  {
   "cell_type": "code",
   "execution_count": 1,
   "metadata": {},
   "outputs": [],
   "source": [
    "from chatterbot import ChatBot\n",
    "from chatterbot.trainers import ChatterBotCorpusTrainer\n",
    "#import logging"
   ]
  },
  {
   "cell_type": "code",
   "execution_count": 2,
   "metadata": {},
   "outputs": [
    {
     "name": "stdout",
     "output_type": "stream",
     "text": [
      "[nltk_data] Downloading package averaged_perceptron_tagger to\n",
      "[nltk_data]     C:\\Users\\noy-4\\AppData\\Roaming\\nltk_data...\n",
      "[nltk_data]   Package averaged_perceptron_tagger is already up-to-\n",
      "[nltk_data]       date!\n",
      "[nltk_data] Downloading package punkt to\n",
      "[nltk_data]     C:\\Users\\noy-4\\AppData\\Roaming\\nltk_data...\n",
      "[nltk_data]   Package punkt is already up-to-date!\n",
      "[nltk_data] Downloading package stopwords to\n",
      "[nltk_data]     C:\\Users\\noy-4\\AppData\\Roaming\\nltk_data...\n",
      "[nltk_data]   Package stopwords is already up-to-date!\n"
     ]
    }
   ],
   "source": [
    "# Enable info level logging\n",
    "#logging.basicConfig(level=logging.INFO)\n",
    "chatbot = ChatBot(\n",
    "    'Titus',\n",
    "    storage_adapter=\"chatterbot.storage.MongoDatabaseAdapter\",\n",
    "    database_uri='mongodb://localhost:27017/chatbot',\n",
    "    \n",
    "    input_adapter=\"chatterbot.input.TerminalAdapter\",\n",
    "    output_adapter=\"chatterbot.output.OutputAdapter\",\n",
    "    output_format=\"text\",\n",
    "    \n",
    "    logic_adapters=[\n",
    "        #{\n",
    "         #   \"import_path\": \"chatterbot.logic.BestMatch\",\n",
    "            #\"statement_comparison_function\": \"chatterbot.comparisons.levenshtein_distance\",\n",
    "            #\"response_selection_method\": \"chatterbot.response_selection.get_most_frequent_response\"\n",
    "        #},\n",
    "        {\n",
    "            'import_path': 'chatterbot.logic.BestMatch',\n",
    "            'default_response': 'Lo siento, pero no te entiendo.',\n",
    "            'maximum_similarity_threshold': 0.90\n",
    "        },\n",
    "        {\n",
    "            'import_path': 'chatterbot.logic.SpecificResponseAdapter',\n",
    "            'input_text': 'Ayudame!',\n",
    "            'output_text': 'Esta bien, aqui hay un link: http://chatterbot.rtfd.org'\n",
    "        }\n",
    "    ],\n",
    "    preprocessors=[\n",
    "        'chatterbot.preprocessors.clean_whitespace'\n",
    "    ],\n",
    "    read_only=True,\n",
    "\n",
    ")"
   ]
  },
  {
   "cell_type": "code",
   "execution_count": 3,
   "metadata": {},
   "outputs": [
    {
     "name": "stdout",
     "output_type": "stream",
     "text": [
      "Training conversations.yml: [####################] 100%\n",
      "Training greetings.yml: [####################] 100%\n",
      "Training trivia.yml: [####################] 100%\n"
     ]
    }
   ],
   "source": [
    "# Start by training our bot with the ChatterBot corpus data\n",
    "trainer = ChatterBotCorpusTrainer(chatbot)\n",
    "\n",
    "trainer.train(\n",
    "    'chatterbot.corpus.spanish'\n",
    ")"
   ]
  },
  {
   "cell_type": "code",
   "execution_count": null,
   "metadata": {},
   "outputs": [
    {
     "name": "stdout",
     "output_type": "stream",
     "text": [
      "Hola\n",
      "Hola\n",
      "Hola, ¿cómo estás?\n",
      "Bien\n",
      "Un placer conocerte\n",
      "Gracias.\n",
      "Buenos días, ¿cómo estás?\n",
      "Estoy bien, ¿y tú?\n",
      "Yo también estoy bien\n",
      "Que bueno.\n",
      "Así es\n",
      "Lo siento, pero no te entiendo.\n",
      "Me da gusto\n",
      "Sí, lo es.\n",
      "¿Puedo ayudarte en algo?\n",
      "Sí, tengo una pregunta.\n",
      "¿Cuál es tu pregunta?\n",
      "¿Puedo pedir prestada una taza de azúcar?\n",
      "Lo siento, pero no tengo ninguna\n",
      "Gracias de todas formas.\n",
      "No hay problema\n",
      "Lo siento, pero no te entiendo.\n",
      "No hay problema.\n",
      "Lo siento, pero no te entiendo.\n",
      "¿Cuál es tu libro favorito?\n",
      "No puedo leer.\n",
      "¿Cúal es tu color favorito?\n",
      "¿Puedo pedir prestada una taza de azúcar?\n",
      "No.\n",
      "Así, es.\n",
      "¿te gusta     la música?\n",
      "¿Qué buena noticia?\n",
      "¿te gusta la música?\n",
      "¿Qué buena noticia?\n",
      "Háblame de ti.\n",
      "¿Qué quieres saber?\n",
      "eres un robot?\n",
      "Sí, lo soy.\n",
      "Cómo funcionas?\n",
      "Lo siento, pero no te entiendo.\n",
      "Ayudame!\n",
      "Lo siento, pero no te entiendo.\n",
      "adios\n",
      "Lo siento, pero no te entiendo.\n",
      "¿Qué te molesta de Java?\n",
      "Tiene muchas inconsistencias.\n",
      "¿Cuál es la edad aproximada de la Tierra?\n",
      "La edad es 4.470 millones de años.\n"
     ]
    }
   ],
   "source": [
    "while True:\n",
    "    try:\n",
    "        bot_input = chatbot.get_response(input())\n",
    "        print(bot_input)\n",
    "\n",
    "    except(KeyboardInterrupt, EOFError, SystemExit):\n",
    "        break"
   ]
  },
  {
   "cell_type": "code",
   "execution_count": 7,
   "metadata": {},
   "outputs": [
    {
     "name": "stdout",
     "output_type": "stream",
     "text": [
      "Supongo que bien.\n"
     ]
    }
   ],
   "source": [
    "bot_input = chatbot.get_response('¿Cómo estas?')\n",
    "print(bot_input)"
   ]
  },
  {
   "cell_type": "code",
   "execution_count": null,
   "metadata": {},
   "outputs": [],
   "source": []
  }
 ],
 "metadata": {
  "kernelspec": {
   "display_name": "Python 3",
   "language": "python",
   "name": "python3"
  },
  "language_info": {
   "codemirror_mode": {
    "name": "ipython",
    "version": 3
   },
   "file_extension": ".py",
   "mimetype": "text/x-python",
   "name": "python",
   "nbconvert_exporter": "python",
   "pygments_lexer": "ipython3",
   "version": "3.7.0"
  }
 },
 "nbformat": 4,
 "nbformat_minor": 2
}
